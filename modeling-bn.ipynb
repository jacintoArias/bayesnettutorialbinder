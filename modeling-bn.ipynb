{
 "cells": [
  {
   "cell_type": "markdown",
   "metadata": {
    "slideshow": {
     "slide_type": "slide"
    }
   },
   "source": [
    "# Modeling with Bayesian Networks\n",
    "\n",
    "\n",
    "## Jacinto Arias @jacintoarias\n",
    "\n",
    "\n",
    "*Updated 17/10/18*\n",
    "\n"
   ]
  },
  {
   "cell_type": "markdown",
   "metadata": {
    "slideshow": {
     "slide_type": "slide"
    }
   },
   "source": [
    "# The problem\n",
    "\n",
    "> We are part of a Data Science team from an IoT company that has developed a new Temperature sensor to monitor data center rooms in order to detect and predict early refrigeration failures. The sensors were installed a year ago, and we need to create a model that would be able to detect specific heat outbreaks or global heating problems in the room.\n",
    "\n",
    "> We are provided with a dataset consisting on a number of measures per day during the previous year for a total of 3 sensors that have been places in strategic places across room."
   ]
  },
  {
   "cell_type": "markdown",
   "metadata": {
    "slideshow": {
     "slide_type": "slide"
    }
   },
   "source": [
    "### Before starting, we need some depedencies"
   ]
  },
  {
   "cell_type": "code",
   "execution_count": null,
   "metadata": {
    "slideshow": {
     "slide_type": "subslide"
    }
   },
   "outputs": [],
   "source": [
    "library(tidyverse)\n",
    "options(repr.plot.width=6, repr.plot.height=4)\n",
    "\n",
    "library(lubridate)\n",
    "\n",
    "library(bnlearn)\n",
    "library(networkD3)"
   ]
  },
  {
   "cell_type": "code",
   "execution_count": null,
   "metadata": {
    "slideshow": {
     "slide_type": "subslide"
    }
   },
   "outputs": [],
   "source": [
    "plotD3bn <- function(bn) {\n",
    "  varNames <- nodes(bn)\n",
    "\n",
    "  # Nodes should be zero indexed!\n",
    "  links <- data.frame(arcs(bn)) %>%\n",
    "    mutate(from = match(from, varNames)-1, to = match(to, varNames)-1, value = 1)\n",
    "  \n",
    "  nodes <- data.frame(name = varNames) %>%\n",
    "    mutate(group = 1, size = 30)\n",
    "  \n",
    "  networkD3::forceNetwork(\n",
    "    Links = links,  \n",
    "    Nodes = nodes,\n",
    "    Source = \"from\",\n",
    "    Target = \"to\",\n",
    "    Value = \"value\",\n",
    "    NodeID = \"name\",\n",
    "    Group = \"group\",\n",
    "    fontSize = 20,\n",
    "    zoom = TRUE,\n",
    "    arrows = TRUE,\n",
    "    bounded = TRUE,\n",
    "    opacityNoHover = 1\n",
    "  )\n",
    "}"
   ]
  },
  {
   "cell_type": "markdown",
   "metadata": {
    "slideshow": {
     "slide_type": "slide"
    }
   },
   "source": [
    "# The Data\n",
    "\n",
    "You may find the sample data in `./data/heatAlarm-lvl1.csv`"
   ]
  },
  {
   "cell_type": "code",
   "execution_count": null,
   "metadata": {},
   "outputs": [],
   "source": [
    "dataRaw <- read_csv(\"./data/heatAlarm-lvl1.csv\")"
   ]
  },
  {
   "cell_type": "code",
   "execution_count": null,
   "metadata": {
    "slideshow": {
     "slide_type": "subslide"
    }
   },
   "outputs": [],
   "source": [
    "head(dataRaw)"
   ]
  },
  {
   "cell_type": "markdown",
   "metadata": {
    "slideshow": {
     "slide_type": "slide"
    }
   },
   "source": [
    "# Exploratory analisys\n",
    "\n",
    "We will start by studying the properties of our problem at hand. First we should look into the distribution of the dataset."
   ]
  },
  {
   "cell_type": "code",
   "execution_count": null,
   "metadata": {},
   "outputs": [],
   "source": [
    "summary(dataRaw)"
   ]
  },
  {
   "cell_type": "markdown",
   "metadata": {
    "slideshow": {
     "slide_type": "subslide"
    }
   },
   "source": [
    "## Conclusions\n",
    "\n",
    "What we see:\n",
    "\n",
    "- A complete year of measures\n",
    "- Different ranges for each sensor\n",
    "\n",
    "Additional tests:\n",
    "\n",
    "- Data completeness\n",
    "- Temporal distribution"
   ]
  },
  {
   "cell_type": "markdown",
   "metadata": {
    "slideshow": {
     "slide_type": "subslide"
    }
   },
   "source": [
    "# Number of measures by day"
   ]
  },
  {
   "cell_type": "code",
   "execution_count": null,
   "metadata": {
    "slideshow": {
     "slide_type": "-"
    }
   },
   "outputs": [],
   "source": [
    "dataRaw %>%\n",
    "  group_by(Date) %>%\n",
    "  summarise(Measures = n()) %>%\n",
    "  ggplot(aes(x=Measures)) + geom_histogram()"
   ]
  },
  {
   "cell_type": "markdown",
   "metadata": {
    "slideshow": {
     "slide_type": "subslide"
    }
   },
   "source": [
    "## Temporal distribution"
   ]
  },
  {
   "cell_type": "code",
   "execution_count": null,
   "metadata": {},
   "outputs": [],
   "source": [
    "dataRaw %>%\n",
    "  gather(\"Sensor\", \"Measure\", TS1, TS2, TS3) %>%\n",
    "  ggplot(aes(x=Date, y=Measure, group=Sensor, color=Sensor)) +\n",
    "  geom_line()"
   ]
  },
  {
   "cell_type": "code",
   "execution_count": null,
   "metadata": {
    "slideshow": {
     "slide_type": "subslide"
    }
   },
   "outputs": [],
   "source": [
    "dataRaw %>%\n",
    "  gather(\"Sensor\", \"Measure\", TS1, TS2, TS3) %>%\n",
    "  ggplot(aes(x=Date, y=Measure, group=Sensor, color=Sensor)) +\n",
    "  geom_smooth()"
   ]
  },
  {
   "cell_type": "markdown",
   "metadata": {
    "slideshow": {
     "slide_type": "slide"
    }
   },
   "source": [
    "## Conclusions\n",
    "\n",
    "- We observe three different distributions for each sensor\n",
    "\n",
    "- Visually they appear to be some linear relatioship (different intercept?)\n",
    "\n",
    "### How can we create this models as a BN?"
   ]
  },
  {
   "cell_type": "markdown",
   "metadata": {
    "slideshow": {
     "slide_type": "slide"
    }
   },
   "source": [
    "# Latent Variables\n",
    "\n",
    "> We can think that the sensors are measuring some real and not observable temperature from the environment. \n",
    "\n",
    "- This **hidden value** conditions the exact measures that the sensors capture depending on enviroment\n",
    "\n",
    "> i.e. The sensors are located in different places in a room and the temperature varies (windows, doors, floor, ceil)\n",
    "\n",
    "- We model this with a `Temp` latent variable that **cannot be observed** but that is captured by each sensor by following a particular dependency\n",
    "\n",
    "- We will represent this by adding a new variable to our data with missing values"
   ]
  },
  {
   "cell_type": "code",
   "execution_count": null,
   "metadata": {
    "slideshow": {
     "slide_type": "subslide"
    }
   },
   "outputs": [],
   "source": [
    "dataLatent <- dataRaw %>% \n",
    "  mutate(Temp = NA) %>%\n",
    "  select(Temp, TS1, TS2, TS3)\n",
    "\n",
    "dataLatent$Temp <- as.numeric(dataLatent$Temp)\n",
    "\n",
    "head(dataLatent)"
   ]
  },
  {
   "cell_type": "markdown",
   "metadata": {
    "slideshow": {
     "slide_type": "subslide"
    }
   },
   "source": [
    "## Build a Bayesian Network (with a latent node)"
   ]
  },
  {
   "cell_type": "code",
   "execution_count": null,
   "metadata": {},
   "outputs": [],
   "source": [
    "heatAlarmDag1 <- model2network(\"[Temp][TS1|Temp][TS2|Temp][TS3|Temp]\")\n",
    "plotD3bn(heatAlarmDag1)"
   ]
  },
  {
   "cell_type": "markdown",
   "metadata": {
    "slideshow": {
     "slide_type": "subslide"
    }
   },
   "source": [
    "# Working with latent variables\n",
    "\n",
    "- How can we learn the parameters?"
   ]
  },
  {
   "cell_type": "markdown",
   "metadata": {
    "slideshow": {
     "slide_type": "fragment"
    }
   },
   "source": [
    "Answer: The **EM** algorithm\n",
    "\n",
    "1. Set an initial guess\n",
    "2. **Expectation**: Compute the likelihood of the parameters generating the data, weight the data accordingly and combine weights and data.\n",
    "3. **Maximization**: Improve a better estimate for the parameters using the adjusted data.\n",
    "4. Repeat 2-3 until convengence"
   ]
  },
  {
   "cell_type": "markdown",
   "metadata": {
    "slideshow": {
     "slide_type": "subslide"
    }
   },
   "source": [
    "## Parametric learning with EM\n",
    "\n",
    "1. Set an initial guess\n",
    "2. **Expectation:** Impute the missing variables in the data by using Bayesian estimation from the actual model. \n",
    "3. **Maximization:**  Learning new parameters for the model by maximizing the likelihood from the imputted data (MLE).\n",
    "4. Repeat 2-3 until convengence\n",
    "\n",
    "(`bnlearn` does not have this algorithm but has a handy `inpute` function) "
   ]
  },
  {
   "cell_type": "markdown",
   "metadata": {
    "slideshow": {
     "slide_type": "subslide"
    }
   },
   "source": [
    "The EM algorithm is then plain simple"
   ]
  },
  {
   "cell_type": "code",
   "execution_count": null,
   "metadata": {},
   "outputs": [],
   "source": [
    "parametric.em <- function(dag, dataLatent, dataImputed, iter = 5) {\n",
    "    \n",
    "  fitted <- bn.fit(dag, dataImputed, method = \"mle\")\n",
    "    \n",
    "  for ( i in seq(iter)) {\n",
    "   complete <- impute(fitted, data = dataLatent, method = \"bayes-lw\")\n",
    "   fitted <- bn.fit(dag, complete, method = \"mle\")\n",
    "  }\n",
    "    \n",
    "  fitted\n",
    "}"
   ]
  },
  {
   "cell_type": "markdown",
   "metadata": {
    "slideshow": {
     "slide_type": "slide"
    }
   },
   "source": [
    "## Attempt 1: Random guess (nice try)\n",
    "\n",
    "We need an initial guess to trigger the EM algoritmh. The most straightforward is **random**."
   ]
  },
  {
   "cell_type": "code",
   "execution_count": null,
   "metadata": {
    "slideshow": {
     "slide_type": "subslide"
    }
   },
   "outputs": [],
   "source": [
    "# Lets add uniform Temp \n",
    "dataImputed <- dataLatent %>% rowwise() %>% mutate(Temp = runif(1, 10, 25))\n",
    "dataImputed %>%\n",
    "  ggplot(aes(x=Temp)) + geom_density()"
   ]
  },
  {
   "cell_type": "markdown",
   "metadata": {
    "slideshow": {
     "slide_type": "subslide"
    }
   },
   "source": [
    "### Let's Try it!"
   ]
  },
  {
   "cell_type": "code",
   "execution_count": null,
   "metadata": {},
   "outputs": [],
   "source": [
    "heatAlarmModel1 <- parametric.em(heatAlarmDag1, dataLatent, dataImputed, iter = 5)"
   ]
  },
  {
   "cell_type": "code",
   "execution_count": null,
   "metadata": {
    "scrolled": true,
    "slideshow": {
     "slide_type": "subslide"
    }
   },
   "outputs": [],
   "source": [
    "heatAlarmModel1"
   ]
  },
  {
   "cell_type": "markdown",
   "metadata": {
    "slideshow": {
     "slide_type": "subslide"
    }
   },
   "source": [
    "### Let's see it!"
   ]
  },
  {
   "cell_type": "code",
   "execution_count": null,
   "metadata": {
    "slideshow": {
     "slide_type": "-"
    }
   },
   "outputs": [],
   "source": [
    "# Sample some data and plot it\n",
    "impute(heatAlarmModel1, data = dataLatent, method = \"bayes-lw\") %>%\n",
    "gather(\"Sensor\", \"Measure\") %>%\n",
    "ggplot(aes(x=Measure, color=Sensor)) + geom_density()"
   ]
  },
  {
   "cell_type": "markdown",
   "metadata": {
    "slideshow": {
     "slide_type": "subslide"
    }
   },
   "source": [
    "### What happened?"
   ]
  },
  {
   "cell_type": "markdown",
   "metadata": {
    "slideshow": {
     "slide_type": "fragment"
    }
   },
   "source": [
    "The guess was **bad**\n",
    "\n",
    "A bad initialization converged quick and fitted the linear gaussians to the wrong `Temp` distribution"
   ]
  },
  {
   "cell_type": "markdown",
   "metadata": {
    "slideshow": {
     "slide_type": "slide"
    }
   },
   "source": [
    "## Attempt 2: Gaussian distribution (good luck)\n",
    "\n",
    "- This time we will use a Gaussian distribution with the parameters computed from the sensors"
   ]
  },
  {
   "cell_type": "code",
   "execution_count": null,
   "metadata": {
    "slideshow": {
     "slide_type": "subslide"
    }
   },
   "outputs": [],
   "source": [
    "statistics <- dataLatent %>% \n",
    "  gather(\"Sensor\", \"Measure\", TS1, TS2, TS3) %>%\n",
    "  summarise( \n",
    "    mu    = mean(Measure),\n",
    "    sigma = sd(Measure)\n",
    "  )\n",
    "\n",
    "dataImputed <- dataLatent %>% \n",
    "  rowwise() %>% \n",
    "  mutate(Temp = rnorm(1, statistics$mu, statistics$sigma))\n"
   ]
  },
  {
   "cell_type": "code",
   "execution_count": null,
   "metadata": {},
   "outputs": [],
   "source": [
    "statistics"
   ]
  },
  {
   "cell_type": "code",
   "execution_count": null,
   "metadata": {
    "slideshow": {
     "slide_type": "subslide"
    }
   },
   "outputs": [],
   "source": [
    "dataImputed %>%\n",
    "  ggplot(aes(x=Temp)) + geom_density()"
   ]
  },
  {
   "cell_type": "markdown",
   "metadata": {
    "slideshow": {
     "slide_type": "subslide"
    }
   },
   "source": [
    "### Let's Try it!"
   ]
  },
  {
   "cell_type": "code",
   "execution_count": null,
   "metadata": {
    "scrolled": true
   },
   "outputs": [],
   "source": [
    "heatAlarmModel1 <- parametric.em(heatAlarmDag1, dataLatent, dataImputed, iter = 5)\n",
    "\n",
    "heatAlarmModel1"
   ]
  },
  {
   "cell_type": "markdown",
   "metadata": {
    "slideshow": {
     "slide_type": "subslide"
    }
   },
   "source": [
    "### Let's see it"
   ]
  },
  {
   "cell_type": "code",
   "execution_count": null,
   "metadata": {},
   "outputs": [],
   "source": [
    "# Sample some data and plot it\n",
    "impute(heatAlarmModel1, data = dataLatent, method = \"bayes-lw\") %>%\n",
    "gather(\"Sensor\", \"Measure\") %>%\n",
    "ggplot(aes(x=Measure, color=Sensor)) + geom_density()"
   ]
  },
  {
   "cell_type": "markdown",
   "metadata": {
    "slideshow": {
     "slide_type": "subslide"
    }
   },
   "source": [
    "### What happened?"
   ]
  },
  {
   "cell_type": "markdown",
   "metadata": {},
   "source": [
    "The guess was **bad**\n",
    "\n",
    "We took an independent gaussian distribution using the average temperature for all the year. If you return to the temporal distribution you can see that the temperature **depends** on the **date**"
   ]
  },
  {
   "cell_type": "code",
   "execution_count": null,
   "metadata": {},
   "outputs": [],
   "source": [
    "dataImputed$Date = dataRaw$Date\n",
    "\n",
    "dataImputed %>%\n",
    "  gather(\"Sensor\", \"Measure\", Temp, TS1, TS2, TS3) %>%\n",
    "  ggplot(aes(x=Date, y=Measure, group=Sensor, color=Sensor)) +\n",
    "  geom_smooth()"
   ]
  },
  {
   "cell_type": "markdown",
   "metadata": {
    "slideshow": {
     "slide_type": "slide"
    }
   },
   "source": [
    "## Attempt 3:  Sensor average (so clever)\n",
    "\n",
    "- This time we will take the data into account and input the temperature as the average of the three sensors."
   ]
  },
  {
   "cell_type": "code",
   "execution_count": null,
   "metadata": {
    "slideshow": {
     "slide_type": "subslide"
    }
   },
   "outputs": [],
   "source": [
    "dataImputed <- dataLatent %>% \n",
    "  rowwise() %>% \n",
    "  mutate(Temp = mean(c(TS1, TS2, TS3)))\n",
    "\n",
    "head(dataImputed)"
   ]
  },
  {
   "cell_type": "code",
   "execution_count": null,
   "metadata": {
    "scrolled": false,
    "slideshow": {
     "slide_type": "subslide"
    }
   },
   "outputs": [],
   "source": [
    "dataImputed %>%\n",
    "  ggplot(aes(x=Temp)) + geom_density()"
   ]
  },
  {
   "cell_type": "markdown",
   "metadata": {
    "slideshow": {
     "slide_type": "subslide"
    }
   },
   "source": [
    "### Let's Try it!"
   ]
  },
  {
   "cell_type": "code",
   "execution_count": null,
   "metadata": {
    "scrolled": true
   },
   "outputs": [],
   "source": [
    "heatAlarmModel1 <- parametric.em(heatAlarmDag1, dataLatent, dataImputed, iter = 10)\n",
    "heatAlarmModel1"
   ]
  },
  {
   "cell_type": "markdown",
   "metadata": {
    "slideshow": {
     "slide_type": "subslide"
    }
   },
   "source": [
    "### Let's see it"
   ]
  },
  {
   "cell_type": "code",
   "execution_count": null,
   "metadata": {
    "scrolled": false
   },
   "outputs": [],
   "source": [
    "# Sample some data and plot it\n",
    "impute(heatAlarmModel1, data = dataLatent, method = \"bayes-lw\") %>%\n",
    "gather(\"Sensor\", \"Measure\") %>%\n",
    "ggplot(aes(x=Measure, color=Sensor)) + geom_density()"
   ]
  },
  {
   "cell_type": "markdown",
   "metadata": {
    "slideshow": {
     "slide_type": "subslide"
    }
   },
   "source": [
    "### What happened?"
   ]
  },
  {
   "cell_type": "markdown",
   "metadata": {},
   "source": [
    "A very good **fit**\n",
    "\n",
    "the density graph represents the sensors as scalar transformations of the latent Temp variable."
   ]
  },
  {
   "cell_type": "code",
   "execution_count": null,
   "metadata": {},
   "outputs": [],
   "source": [
    "dataImputed$Date = dataRaw$Date\n",
    "\n",
    "dataImputed %>%\n",
    "  gather(\"Sensor\", \"Measure\", Temp, TS1, TS2, TS3) %>%\n",
    "  ggplot(aes(x=Date, y=Measure, group=Sensor, color=Sensor)) +\n",
    "  geom_smooth()"
   ]
  },
  {
   "cell_type": "markdown",
   "metadata": {
    "slideshow": {
     "slide_type": "slide"
    }
   },
   "source": [
    "# Modeling the domain\n",
    "\n",
    "- Our module captures the real temperature correctly, but it **ignores the context**\n",
    "\n",
    "- We are not able to reproduce the current variation of temperature over time with our model, as we include the data variable in our sample\n",
    "\n",
    "- Additional variables will help us capture this dependency\n",
    "\n",
    "- Let's evaluate some options"
   ]
  },
  {
   "cell_type": "markdown",
   "metadata": {
    "slideshow": {
     "slide_type": "subslide"
    }
   },
   "source": [
    "## Modeling the date as the month"
   ]
  },
  {
   "cell_type": "code",
   "execution_count": null,
   "metadata": {},
   "outputs": [],
   "source": [
    "dataByMonth <- dataRaw %>%\n",
    "  mutate(Month = as.factor(month(Date, label = TRUE, abbr = TRUE)))\n",
    "\n",
    "plot <- dataByMonth %>%\n",
    "  gather(\"Sensor\", \"Measure\", TS1, TS2, TS3) %>%\n",
    "  ggplot(aes(x=Measure, color=Sensor, fill=Sensor)) + \n",
    "    geom_density(alpha=0.5) +\n",
    "    facet_wrap(~Month)"
   ]
  },
  {
   "cell_type": "code",
   "execution_count": null,
   "metadata": {
    "slideshow": {
     "slide_type": "subslide"
    }
   },
   "outputs": [],
   "source": [
    "plot"
   ]
  },
  {
   "cell_type": "markdown",
   "metadata": {
    "slideshow": {
     "slide_type": "subslide"
    }
   },
   "source": [
    "## Conclusions\n",
    "\n",
    "- **Pro** Captures differences\n",
    "\n",
    "- **Cons** Too many dimensions\n",
    "\n",
    "- Alternative: Find a equivalent lower dimension variable"
   ]
  },
  {
   "cell_type": "markdown",
   "metadata": {
    "slideshow": {
     "slide_type": "subslide"
    }
   },
   "source": [
    "## Modeling the date with seasons\n",
    "\n"
   ]
  },
  {
   "cell_type": "code",
   "execution_count": null,
   "metadata": {},
   "outputs": [],
   "source": [
    "# Lubridate cant extract seasons so we need a custom function\n",
    "# We better encode the states as a dict to avoid magic strings\n",
    "SeasonStates <- list(\n",
    "  Winter = \"winter\",\n",
    "  Spring = \"spring\",\n",
    "  Summer = \"summer\",\n",
    "  Fall = \"fall\"\n",
    ")\n",
    "season <- function(date){\n",
    "  WS <- as.Date(\"2012-12-15\", format = \"%Y-%m-%d\") # Winter Solstice\n",
    "  SE <- as.Date(\"2012-3-15\",  format = \"%Y-%m-%d\") # Spring Equinox\n",
    "  SS <- as.Date(\"2012-6-15\",  format = \"%Y-%m-%d\") # Summer Solstice\n",
    "  FE <- as.Date(\"2012-9-15\",  format = \"%Y-%m-%d\") # Fall Equinox\n",
    "  \n",
    "  # Convert dates from any year to 2012 dates\n",
    "  d <- as.Date(strftime(date, format=\"2012-%m-%d\"))\n",
    "  \n",
    "  factor(\n",
    "    ifelse (d >= WS | d < SE, SeasonStates$Winter,\n",
    "      ifelse (d >= SE & d < SS, SeasonStates$Spring,\n",
    "        ifelse (d >= SS & d < FE, SeasonStates$Summer, SeasonStates$Fall))),\n",
    "    levels = SeasonStates\n",
    "  )\n",
    "}\n",
    "\n",
    "dataBySeason <- dataByMonth %>%\n",
    "  mutate(Season = season(Date))\n",
    "\n",
    "plot <- dataBySeason %>%\n",
    "  gather(\"Sensor\", \"Measure\", TS1, TS2, TS3) %>%\n",
    "  ggplot(aes(x=Measure, color=Sensor, fill=Sensor)) + \n",
    "    geom_density(alpha=0.5) +\n",
    "    facet_wrap(~Season)"
   ]
  },
  {
   "cell_type": "code",
   "execution_count": null,
   "metadata": {
    "slideshow": {
     "slide_type": "subslide"
    }
   },
   "outputs": [],
   "source": [
    "plot"
   ]
  },
  {
   "cell_type": "markdown",
   "metadata": {
    "slideshow": {
     "slide_type": "subslide"
    }
   },
   "source": [
    "## Conclusions\n",
    "\n",
    "- **Pro** Captures the same differences (we could test with statistics)\n",
    "\n",
    "- **Cons** Distributions are _\"less gaussian\"_. Some of them seems like mixtures..."
   ]
  },
  {
   "cell_type": "markdown",
   "metadata": {
    "slideshow": {
     "slide_type": "subslide"
    }
   },
   "source": [
    "## Include in the BN\n",
    "\n",
    "Lets include the new variables into a model and learn the parameters..."
   ]
  },
  {
   "cell_type": "markdown",
   "metadata": {
    "slideshow": {
     "slide_type": "subslide"
    }
   },
   "source": [
    "### BN with month"
   ]
  },
  {
   "cell_type": "code",
   "execution_count": null,
   "metadata": {},
   "outputs": [],
   "source": [
    "dataLatentMonth <- dataByMonth %>%\n",
    "  mutate(Temp = NA) %>%\n",
    "  select(Month, Temp, TS1, TS2, TS3) %>%\n",
    "  as.data.frame()\n",
    "\n",
    "dataLatentMonth$Temp <- as.numeric(dataLatentMonth$Temp)"
   ]
  },
  {
   "cell_type": "code",
   "execution_count": null,
   "metadata": {},
   "outputs": [],
   "source": [
    "heatAlarmDagMonth <- model2network(\"[Month][Temp|Month][TS1|Temp][TS2|Temp][TS3|Temp]\")\n",
    "plotD3bn(heatAlarmDagMonth)"
   ]
  },
  {
   "cell_type": "markdown",
   "metadata": {
    "slideshow": {
     "slide_type": "subslide"
    }
   },
   "source": [
    "### EM"
   ]
  },
  {
   "cell_type": "code",
   "execution_count": null,
   "metadata": {
    "scrolled": true,
    "slideshow": {
     "slide_type": ""
    }
   },
   "outputs": [],
   "source": [
    "dataImputedMonth <- dataLatentMonth %>% \n",
    "  rowwise() %>% \n",
    "  mutate(Temp = mean(c(TS1, TS2, TS3))) %>%\n",
    "  as.data.frame()\n",
    "\n",
    "heatAlarmModelMonth <- parametric.em(heatAlarmDagMonth, dataLatentMonth, dataImputedMonth, iter = 5)\n",
    "heatAlarmModelMonth"
   ]
  },
  {
   "cell_type": "markdown",
   "metadata": {
    "slideshow": {
     "slide_type": "subslide"
    }
   },
   "source": [
    "### Ploting"
   ]
  },
  {
   "cell_type": "code",
   "execution_count": null,
   "metadata": {
    "slideshow": {
     "slide_type": "-"
    }
   },
   "outputs": [],
   "source": [
    "dataImputeMonthPosterior <- impute(heatAlarmModelMonth, data = dataLatentMonth, method = \"bayes-lw\")\n",
    "\n",
    "plot <- dataImputeMonthPosterior %>%\n",
    "  gather(\"Sensor\", \"Measure\", Temp) %>%\n",
    "  ggplot(aes(x=Measure, color=Sensor, fill=Sensor)) + \n",
    "    geom_density(alpha=0.5) +\n",
    "    facet_wrap(~Month)"
   ]
  },
  {
   "cell_type": "code",
   "execution_count": null,
   "metadata": {
    "slideshow": {
     "slide_type": "subslide"
    }
   },
   "outputs": [],
   "source": [
    "plot"
   ]
  },
  {
   "cell_type": "markdown",
   "metadata": {
    "slideshow": {
     "slide_type": "subslide"
    }
   },
   "source": [
    "### BN with season"
   ]
  },
  {
   "cell_type": "code",
   "execution_count": null,
   "metadata": {},
   "outputs": [],
   "source": [
    "dataLatentSeason <- dataBySeason %>%\n",
    "  mutate(Temp = NA) %>%\n",
    "  select(Season, Temp, TS1, TS2, TS3) %>%\n",
    "  as.data.frame()\n",
    "\n",
    "dataLatentSeason$Temp <- as.numeric(dataLatentSeason$Temp)\n",
    "\n",
    "heatAlarmDagSeason <- model2network(\"[Season][Temp|Season][TS1|Temp][TS2|Temp][TS3|Temp]\")\n",
    "plotD3bn(heatAlarmDagSeason)"
   ]
  },
  {
   "cell_type": "markdown",
   "metadata": {
    "slideshow": {
     "slide_type": "subslide"
    }
   },
   "source": [
    "### EM"
   ]
  },
  {
   "cell_type": "code",
   "execution_count": null,
   "metadata": {
    "scrolled": true
   },
   "outputs": [],
   "source": [
    "dataImputedSeason <- dataLatentSeason %>% \n",
    "  rowwise() %>% \n",
    "  mutate(Temp = mean(c(TS1, TS2, TS3))) %>%\n",
    "  as.data.frame()\n",
    "\n",
    "heatAlarmModelSeason <- parametric.em(heatAlarmDagSeason, dataLatentSeason, dataImputedSeason, iter = 10)\n",
    "heatAlarmModelSeason"
   ]
  },
  {
   "cell_type": "markdown",
   "metadata": {
    "slideshow": {
     "slide_type": "subslide"
    }
   },
   "source": [
    "### Ploting"
   ]
  },
  {
   "cell_type": "code",
   "execution_count": null,
   "metadata": {},
   "outputs": [],
   "source": [
    "dataImputeSeasonPosterior <- impute(heatAlarmModelSeason, data = dataLatentSeason, method = \"bayes-lw\")\n",
    "\n",
    "plot <- dataImputeSeasonPosterior %>%\n",
    "  gather(\"Sensor\", \"Measure\", Temp, TS1, TS2, TS3) %>%\n",
    "  ggplot(aes(x=Measure, color=Sensor, fill=Sensor)) + \n",
    "    geom_density(alpha=0.5) +\n",
    "    facet_wrap(~Season)"
   ]
  },
  {
   "cell_type": "code",
   "execution_count": null,
   "metadata": {},
   "outputs": [],
   "source": [
    "plot"
   ]
  },
  {
   "cell_type": "markdown",
   "metadata": {
    "slideshow": {
     "slide_type": "slide"
    }
   },
   "source": [
    "# Modeling anomalies\n",
    "\n",
    "- One of the most appealing aspects of Bayesian Networks is the ability to include expert knowledge\n",
    "\n",
    "- This is almost impossible in other frameworks but it is a natural concept in this case.\n",
    "\n",
    "- We call BNs open box models because we can understand and interpretate the parameters\n",
    "\n",
    "- This is really useful for modelling anomalies, because we can use latent variables and expert knowledge to represent events that cannot be observed."
   ]
  },
  {
   "cell_type": "markdown",
   "metadata": {
    "slideshow": {
     "slide_type": "subslide"
    }
   },
   "source": [
    "## How to collect data for anomalies\n",
    "\n",
    "- If the events that cause the anomalies cannot be observed, we would not have available data to learn from\n",
    "\n",
    "- How can we gather data for our use case to create a supervised classification problem?\n"
   ]
  },
  {
   "cell_type": "markdown",
   "metadata": {
    "slideshow": {
     "slide_type": "fragment"
    }
   },
   "source": [
    "<img src=\"./img/fire.jpg\" alt=\"Data collection\" style=\"width: 600px;\"/>\n",
    "\n",
    "> \"Data collection.png\""
   ]
  },
  {
   "cell_type": "markdown",
   "metadata": {
    "slideshow": {
     "slide_type": "subslide"
    }
   },
   "source": [
    "## How to collect data for anomalies\n",
    "\n",
    "- In our example we would have to destroy machines and lit the room on fire to capture data about anomalies\n",
    "\n",
    "- That would surely have a high cost. \n",
    "\n",
    "- Imagine other scenarios such as rare diseases, autonomous driving or financial fraud.\n",
    "\n",
    "- If we **know** how an anomaly looks like, we can model it directly into the model"
   ]
  },
  {
   "cell_type": "markdown",
   "metadata": {
    "slideshow": {
     "slide_type": "subslide"
    }
   },
   "source": [
    "## How to model anomalies in BNs\n",
    "\n",
    "- We will start by modeling a global anomaly by adding a new variable Alarm\n",
    "\n",
    "- This variable will have two states yes and no\n",
    "\n",
    "- In this example we have been collecting data from the sensors for a year, we assume that the functioning has been correct \n",
    "\n",
    "> Given this, the Alarm variable will be always observed to no."
   ]
  },
  {
   "cell_type": "code",
   "execution_count": null,
   "metadata": {
    "slideshow": {
     "slide_type": "subslide"
    }
   },
   "outputs": [],
   "source": [
    "# New Variables\n",
    "AlarmStates <- list(\n",
    "  No  = \"no\",\n",
    "  Yes = \"yes\"\n",
    ")\n",
    "\n",
    "dataLatent <- dataLatentSeason %>%\n",
    "  mutate(Alarm = factor(AlarmStates$No, levels = AlarmStates)) %>%\n",
    "  select(Alarm, Season, Temp, TS1, TS2, TS3) %>%\n",
    "  as.data.frame()\n",
    "\n",
    "heatAlarmDag <- model2network(\"[Alarm][Season][Temp|Season:Alarm][TS1|Temp][TS2|Temp][TS3|Temp]\")\n",
    "plotD3bn(heatAlarmDag)"
   ]
  },
  {
   "cell_type": "markdown",
   "metadata": {
    "slideshow": {
     "slide_type": "subslide"
    }
   },
   "source": [
    "## EM"
   ]
  },
  {
   "cell_type": "code",
   "execution_count": null,
   "metadata": {},
   "outputs": [],
   "source": [
    "dataImputed <- dataLatent %>% \n",
    "  rowwise() %>% \n",
    "  mutate(Temp = mean(c(TS1, TS2, TS3))) %>%\n",
    "  as.data.frame()"
   ]
  },
  {
   "cell_type": "code",
   "execution_count": null,
   "metadata": {},
   "outputs": [],
   "source": [
    "heatAlarmModel <- parametric.em(heatAlarmDag, dataLatent, dataImputed, iter = 5)"
   ]
  },
  {
   "cell_type": "code",
   "execution_count": null,
   "metadata": {
    "slideshow": {
     "slide_type": "subslide"
    }
   },
   "outputs": [],
   "source": [
    "heatAlarmModel$Alarm"
   ]
  },
  {
   "cell_type": "markdown",
   "metadata": {
    "slideshow": {
     "slide_type": "subslide"
    }
   },
   "source": [
    "### What happened?\n",
    "\n",
    "Obviously the algorithm will fit all the cases to the observed population in which no alarms have occurred. "
   ]
  },
  {
   "cell_type": "markdown",
   "metadata": {
    "slideshow": {
     "slide_type": "fragment"
    }
   },
   "source": [
    "## What can we do?\n",
    "\n",
    "We will contact our **experts** and design a proper parametrization of the variable.\n",
    "\n",
    "> System administrator: “We don't have many accidents, I would say that a machine brokes 1/1000 of the time, in such cases everything overheats and the room temperature is quickly raised about 10 degrees”."
   ]
  },
  {
   "cell_type": "markdown",
   "metadata": {
    "slideshow": {
     "slide_type": "subslide"
    }
   },
   "source": [
    "## Adding expert knowledge to our model\n",
    "\n",
    "#### Model the occurrence of a failure on the Alarm node"
   ]
  },
  {
   "cell_type": "code",
   "execution_count": null,
   "metadata": {},
   "outputs": [],
   "source": [
    "cptAlarm <- coef(heatAlarmModel$Alarm)\n",
    "print(cptAlarm)"
   ]
  },
  {
   "cell_type": "code",
   "execution_count": null,
   "metadata": {},
   "outputs": [],
   "source": [
    "cptAlarm[] <- c(0.999, 0.001)\n",
    "heatAlarmModel$Alarm <- cptAlarm\n",
    "print(heatAlarmModel$Alarm)"
   ]
  },
  {
   "cell_type": "markdown",
   "metadata": {
    "slideshow": {
     "slide_type": "subslide"
    }
   },
   "source": [
    "#### Model the consecuence of a failure on the sensor nodes\n",
    "\n"
   ]
  },
  {
   "cell_type": "code",
   "execution_count": null,
   "metadata": {},
   "outputs": [],
   "source": [
    "cgaussTemp <- coef(heatAlarmModel$Temp)\n",
    "sdTemp     <- heatAlarmModel$Temp$sd\n",
    "print(cgaussTemp)"
   ]
  },
  {
   "cell_type": "code",
   "execution_count": null,
   "metadata": {},
   "outputs": [],
   "source": [
    "print(sdTemp)\n"
   ]
  },
  {
   "cell_type": "code",
   "execution_count": null,
   "metadata": {
    "scrolled": true,
    "slideshow": {
     "slide_type": "subslide"
    }
   },
   "outputs": [],
   "source": [
    "cgaussTemp[is.nan(cgaussTemp)] <- cgaussTemp[!is.nan(cgaussTemp)] + 10\n",
    "\n",
    "sdTemp[is.nan(sdTemp)] <- sdTemp[!is.nan(sdTemp)]\n",
    "\n",
    "heatAlarmModel$Temp <- list( coef = cgaussTemp, sd = sdTemp)\n",
    "heatAlarmModel$Temp"
   ]
  },
  {
   "cell_type": "markdown",
   "metadata": {
    "slideshow": {
     "slide_type": "subslide"
    }
   },
   "source": [
    "## Test the anomaly\n",
    "\n",
    "We have a completely parametrized model that we can test.\n",
    "\n",
    "Lets do some probability queries"
   ]
  },
  {
   "cell_type": "code",
   "execution_count": null,
   "metadata": {
    "slideshow": {
     "slide_type": "subslide"
    }
   },
   "outputs": [],
   "source": [
    "e <- list( \"Season\" = SeasonStates$Winter, \"TS1\" = 23, \"TS2\" = 33, \"TS3\" = 29 )\n",
    "\n",
    "query_trials <- replicate(100, cpquery(heatAlarmModel, event = Alarm == \"yes\", evidence = e,  method = \"lw\", n=10000))\n",
    "query <- mean(query_trials)\n",
    "print(query)"
   ]
  },
  {
   "cell_type": "markdown",
   "metadata": {},
   "source": [
    "This temperature is too high for winter, so the alarm is likely to go up."
   ]
  },
  {
   "cell_type": "code",
   "execution_count": null,
   "metadata": {
    "slideshow": {
     "slide_type": "subslide"
    }
   },
   "outputs": [],
   "source": [
    "e <- list( \"Season\" = SeasonStates$Summer, \"TS1\" = 23, \"TS2\" = 33, \"TS3\" = 29 )\n",
    "\n",
    "query_trials <- replicate(100, cpquery(heatAlarmModel, event = Alarm == \"yes\", evidence = e,  method = \"lw\", n=10000))\n",
    "query <- mean(query_trials)\n",
    "print(query)"
   ]
  },
  {
   "cell_type": "markdown",
   "metadata": {},
   "source": [
    "However this is a good fit for the higher temperatures that are registered in summer."
   ]
  },
  {
   "cell_type": "markdown",
   "metadata": {
    "slideshow": {
     "slide_type": "slide"
    }
   },
   "source": [
    "# Additional anomalies: Faulty sensor\n",
    "\n",
    "We could model additional anomalies for the individual malfunctioning of each sensor. In that case we could observe either global temperature anomalies or individual malfunctions.\n",
    "\n",
    "A common pattern is to add a new hidden discrete variable conditioning each sensor with a random distribution in the case of malfunction."
   ]
  },
  {
   "cell_type": "code",
   "execution_count": null,
   "metadata": {
    "slideshow": {
     "slide_type": "subslide"
    }
   },
   "outputs": [],
   "source": [
    "# New Variables\n",
    "TS1FaultStates <- list(\n",
    "  No  = \"no\",\n",
    "  Yes = \"yes\"\n",
    ")\n",
    "\n",
    "dataLatent <- dataLatentSeason %>%\n",
    "  mutate(\n",
    "    Alarm = factor(AlarmStates$No, levels = AlarmStates),\n",
    "    TS1Fault = factor(TS1FaultStates$No, levels = TS1FaultStates)\n",
    "  ) %>%\n",
    "  select(Alarm, Season, Temp, TS1Fault, TS1, TS2, TS3) %>%\n",
    "  as.data.frame()\n",
    "\n",
    "dataImputed <- dataLatent %>% \n",
    "  rowwise() %>% \n",
    "  mutate(Temp = mean(c(TS1, TS2, TS3))) %>%\n",
    "  as.data.frame()\n",
    "\n",
    "heatAlarmDag <- model2network(\"[Alarm][Season][TS1Fault][Temp|Season:Alarm][TS1|Temp:TS1Fault][TS2|Temp][TS3|Temp]\")"
   ]
  },
  {
   "cell_type": "code",
   "execution_count": null,
   "metadata": {
    "slideshow": {
     "slide_type": "subslide"
    }
   },
   "outputs": [],
   "source": [
    "plotD3bn(heatAlarmDag)"
   ]
  },
  {
   "cell_type": "markdown",
   "metadata": {
    "slideshow": {
     "slide_type": "subslide"
    }
   },
   "source": [
    "### EM"
   ]
  },
  {
   "cell_type": "code",
   "execution_count": null,
   "metadata": {
    "slideshow": {
     "slide_type": ""
    }
   },
   "outputs": [],
   "source": [
    "heatAlarmModel <- parametric.em(heatAlarmDag, dataLatent, dataImputed, iter = 10)"
   ]
  },
  {
   "cell_type": "code",
   "execution_count": null,
   "metadata": {
    "scrolled": true,
    "slideshow": {
     "slide_type": "subslide"
    }
   },
   "outputs": [],
   "source": [
    "heatAlarmModel"
   ]
  },
  {
   "cell_type": "markdown",
   "metadata": {
    "slideshow": {
     "slide_type": "subslide"
    }
   },
   "source": [
    "## Adding expert knowledge (again)\n",
    "\n",
    "We ask the experts about the fault tolerance of the sensors:\n",
    "\n",
    "> IoT engineer: Our sensors are the best, they usually do not fail. The testing guys estimate just a 1/1000 failures."
   ]
  },
  {
   "cell_type": "markdown",
   "metadata": {
    "slideshow": {
     "slide_type": "subslide"
    }
   },
   "source": [
    "### Adding expert knowledge to alarm and sensor nodes:"
   ]
  },
  {
   "cell_type": "code",
   "execution_count": null,
   "metadata": {},
   "outputs": [],
   "source": [
    "# TODO: Please dont do this, this is not DRY...\n",
    "cptAlarm[] <- c(0.999, 0.001)\n",
    "heatAlarmModel$Alarm <- cptAlarm\n",
    "cgaussTemp <- coef(heatAlarmModel$Temp)\n",
    "sdTemp     <- heatAlarmModel$Temp$sd\n",
    "cgaussTemp[is.nan(cgaussTemp)] <- cgaussTemp[!is.nan(cgaussTemp)] + 10\n",
    "sdTemp[is.nan(sdTemp)] <- sdTemp[!is.nan(sdTemp)]\n",
    "heatAlarmModel$Temp <- list( coef = cgaussTemp, sd = sdTemp)"
   ]
  },
  {
   "cell_type": "markdown",
   "metadata": {
    "slideshow": {
     "slide_type": "subslide"
    }
   },
   "source": [
    "### Adding expert knowledge to TS1Fault and TS1 nodes"
   ]
  },
  {
   "cell_type": "code",
   "execution_count": null,
   "metadata": {},
   "outputs": [],
   "source": [
    "cptTS1Fault <- coef(heatAlarmModel$TS1Fault)\n",
    "print(cptTS1Fault)"
   ]
  },
  {
   "cell_type": "code",
   "execution_count": null,
   "metadata": {},
   "outputs": [],
   "source": [
    "cptTS1Fault[] <- c(0.9999, 0.0001)\n",
    "heatAlarmModel$TS1Fault <- cptTS1Fault\n",
    "print(heatAlarmModel$TS1Fault)"
   ]
  },
  {
   "cell_type": "markdown",
   "metadata": {
    "slideshow": {
     "slide_type": "subslide"
    }
   },
   "source": [
    "For the sensor node we will model a plain gaussian with a huge variance as a random distribution"
   ]
  },
  {
   "cell_type": "code",
   "execution_count": null,
   "metadata": {
    "slideshow": {
     "slide_type": "-"
    }
   },
   "outputs": [],
   "source": [
    "cgaussTS1 <- coef(heatAlarmModel$TS1)\n",
    "sdTS1     <- heatAlarmModel$TS1$sd\n",
    "print(cgaussTS1)"
   ]
  },
  {
   "cell_type": "code",
   "execution_count": null,
   "metadata": {
    "slideshow": {
     "slide_type": "-"
    }
   },
   "outputs": [],
   "source": [
    "print(sdTS1)\n"
   ]
  },
  {
   "cell_type": "code",
   "execution_count": null,
   "metadata": {
    "scrolled": true,
    "slideshow": {
     "slide_type": "subslide"
    }
   },
   "outputs": [],
   "source": [
    "cgaussTS1[is.nan(cgaussTS1)] <- 0\n",
    "sdTS1[is.nan(sdTS1)] <- 1000000\n",
    "heatAlarmModel$TS1 <- list( coef = cgaussTS1, sd = sdTS1)\n",
    "heatAlarmModel$TS1"
   ]
  },
  {
   "cell_type": "markdown",
   "metadata": {
    "slideshow": {
     "slide_type": "subslide"
    }
   },
   "source": [
    "## Test the anomaly\n",
    "\n",
    "If **only TS1** is capturing a very high temperatures the fault node will detect the anomaly and will not trigger the alarm"
   ]
  },
  {
   "cell_type": "code",
   "execution_count": null,
   "metadata": {},
   "outputs": [],
   "source": [
    "e <- list( \"Season\" = SeasonStates$Winter, \"TS1\" = 35, \"TS2\" = 24, \"TS3\" = 20 )\n",
    "\n",
    "query_trials <- replicate(100, cpquery(heatAlarmModel, event = Alarm == \"yes\", evidence = e,  method = \"lw\", n=10000))\n",
    "query <- mean(query_trials)\n",
    "print(\"Alarm = yes\")\n",
    "print(query)\n",
    "\n",
    "e <- list( \"Season\" = SeasonStates$Winter, \"TS1\" = 35, \"TS2\" = 24, \"TS3\" = 20 )\n",
    "\n",
    "query_trials <- replicate(100, cpquery(heatAlarmModel, event = TS1Fault == \"yes\", evidence = e,  method = \"lw\", n=10000))\n",
    "query <- mean(query_trials)\n",
    "print(\"TS1Fault = yes\")\n",
    "print(query)"
   ]
  },
  {
   "cell_type": "markdown",
   "metadata": {
    "slideshow": {
     "slide_type": "subslide"
    }
   },
   "source": [
    "If the three sensors are capturing unlikely temperatures, then Alarm will be triggered"
   ]
  },
  {
   "cell_type": "code",
   "execution_count": null,
   "metadata": {},
   "outputs": [],
   "source": [
    "e <- list( \"Season\" = SeasonStates$Winter, \"TS1\" = 35, \"TS2\" = 37, \"TS3\" = 29 )\n",
    "\n",
    "query_trials <- replicate(100, cpquery(heatAlarmModel, event = Alarm == \"yes\", evidence = e,  method = \"lw\", n=10000))\n",
    "query <- mean(query_trials)\n",
    "print(\"Alarm = yes\")\n",
    "print(query)\n",
    "\n",
    "e <- list( \"Season\" = SeasonStates$Winter, \"TS1\" = 35, \"TS2\" = 37, \"TS3\" = 29 )\n",
    "\n",
    "query_trials <- replicate(100, cpquery(heatAlarmModel, event = TS1Fault == \"yes\", evidence = e,  method = \"lw\", n=10000))\n",
    "query <- mean(query_trials)\n",
    "print(\"TS1Fault = yes\")\n",
    "print(query)"
   ]
  },
  {
   "cell_type": "markdown",
   "metadata": {
    "slideshow": {
     "slide_type": "slide"
    }
   },
   "source": [
    "# Other (more complex) scenarios\n",
    "\n",
    "Can you spot the difference in this new scenario?"
   ]
  },
  {
   "cell_type": "code",
   "execution_count": null,
   "metadata": {
    "slideshow": {
     "slide_type": "subslide"
    }
   },
   "outputs": [],
   "source": [
    "dataRaw <- read_csv(\"./data/heatAlarm-lvl2.csv\")\n",
    "\n",
    "plot <- dataRaw %>%\n",
    "  gather(\"Sensor\", \"Measure\", TS1, TS2, TS3) %>%\n",
    "  ggplot(aes(x=Date, y=Measure, group=Sensor, color=Sensor)) +\n",
    "  geom_smooth()"
   ]
  },
  {
   "cell_type": "code",
   "execution_count": null,
   "metadata": {},
   "outputs": [],
   "source": [
    "plot"
   ]
  },
  {
   "cell_type": "markdown",
   "metadata": {
    "slideshow": {
     "slide_type": "subslide"
    }
   },
   "source": [
    "## A tip from the context\n",
    "\n",
    "> Our experts tell us that the indoor temperature of the room is affected by the outdoor weather, specially near the windows and doors. The temperature in the interior part of the room is more stable.\n",
    "\n",
    "Given this new knowledge we decide to place a new sensor outdoors `TSO`. Now we can have an additional component to add to our model, hopefully it will allow to mixture the indoor and outdoor temperatures."
   ]
  },
  {
   "cell_type": "code",
   "execution_count": null,
   "metadata": {
    "slideshow": {
     "slide_type": "subslide"
    }
   },
   "outputs": [],
   "source": [
    "dataRaw %>%\n",
    "  gather(\"Sensor\", \"Measure\", TSO, TS1, TS2, TS3) %>%\n",
    "  ggplot(aes(x=Date, y=Measure, group=Sensor, color=Sensor)) +\n",
    "  geom_smooth()"
   ]
  },
  {
   "cell_type": "code",
   "execution_count": null,
   "metadata": {
    "slideshow": {
     "slide_type": "subslide"
    }
   },
   "outputs": [],
   "source": [
    "dataByMonth <- dataRaw %>%\n",
    "  mutate(Month = as.factor(month(Date, label = TRUE, abbr = TRUE)))\n",
    "dataByMonth %>%\n",
    "  gather(\"Sensor\", \"Measure\", TSO, TS1, TS2, TS3) %>%\n",
    "  ggplot(aes(x=Measure, color=Sensor, fill=Sensor)) + \n",
    "    geom_density(alpha=0.5) +\n",
    "    facet_wrap(~Month)"
   ]
  },
  {
   "cell_type": "code",
   "execution_count": null,
   "metadata": {
    "slideshow": {
     "slide_type": "subslide"
    }
   },
   "outputs": [],
   "source": [
    "dataBySeason <- dataByMonth %>%\n",
    "  mutate(Season = season(Date))\n",
    "dataBySeason %>%\n",
    "  gather(\"Sensor\", \"Measure\", TSO, TS1, TS2, TS3) %>%\n",
    "  ggplot(aes(x=Measure, color=Sensor, fill=Sensor)) + \n",
    "    geom_density(alpha=0.4) +\n",
    "    facet_wrap(~Season)"
   ]
  },
  {
   "cell_type": "markdown",
   "metadata": {
    "slideshow": {
     "slide_type": "subslide"
    }
   },
   "source": [
    "## Adding TSO to the model"
   ]
  },
  {
   "cell_type": "code",
   "execution_count": null,
   "metadata": {},
   "outputs": [],
   "source": [
    "heatAlarmDag2 <- model2network(\"[Alarm][Season][TOut|Season][TS0|TOut][TInd|TOut:Alarm][TS1|TInd][TS2|TInd][TS3|TInd]\")\n",
    "plotD3bn(heatAlarmDag2)"
   ]
  },
  {
   "cell_type": "markdown",
   "metadata": {
    "slideshow": {
     "slide_type": "subslide"
    }
   },
   "source": [
    "### What will be the causation among Outdoor/Indoors and sensors?\n",
    "\n",
    ">IoT team: Uh, yes. We instaled TS1 in a corner of the room, near the entrance. TS2 is on the ceiling and might be near a ventilation shaft, so it will probably capture a bit more of heat from the machines. TS3 should be more stable, it is located in the middle of the room.\n",
    "\n",
    "This almost make sense visually. However, at this point we will need to test the different structures, either by learning all of them and comparing with BIC, or running a structural learning process."
   ]
  }
 ],
 "metadata": {
  "celltoolbar": "Slideshow",
  "kernelspec": {
   "display_name": "R",
   "language": "R",
   "name": "ir"
  },
  "language_info": {
   "codemirror_mode": "r",
   "file_extension": ".r",
   "mimetype": "text/x-r-source",
   "name": "R",
   "pygments_lexer": "r",
   "version": "3.4.2"
  },
  "toc": {
   "base_numbering": 1,
   "nav_menu": {},
   "number_sections": false,
   "sideBar": true,
   "skip_h1_title": false,
   "title_cell": "Table of Contents",
   "title_sidebar": "Contents",
   "toc_cell": false,
   "toc_position": {},
   "toc_section_display": true,
   "toc_window_display": false
  },
  "varInspector": {
   "cols": {
    "lenName": 16,
    "lenType": 16,
    "lenVar": 40
   },
   "kernels_config": {
    "python": {
     "delete_cmd_postfix": "",
     "delete_cmd_prefix": "del ",
     "library": "var_list.py",
     "varRefreshCmd": "print(var_dic_list())"
    },
    "r": {
     "delete_cmd_postfix": ") ",
     "delete_cmd_prefix": "rm(",
     "library": "var_list.r",
     "varRefreshCmd": "cat(var_dic_list()) "
    }
   },
   "types_to_exclude": [
    "module",
    "function",
    "builtin_function_or_method",
    "instance",
    "_Feature"
   ],
   "window_display": false
  }
 },
 "nbformat": 4,
 "nbformat_minor": 2
}
