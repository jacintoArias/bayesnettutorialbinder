{
 "cells": [
  {
   "cell_type": "markdown",
   "metadata": {
    "slideshow": {
     "slide_type": "slide"
    }
   },
   "source": [
    "   # Intro to bnlearn\n",
    "\n",
    "## Jacinto Arias @jacintoarias\n",
    "\n",
    "\n",
    "*Updated 17/10/18*\n",
    "\n"
   ]
  },
  {
   "cell_type": "code",
   "execution_count": null,
   "metadata": {},
   "outputs": [],
   "source": [
    "library(tidyverse)\n",
    "library(networkD3)"
   ]
  },
  {
   "cell_type": "markdown",
   "metadata": {
    "slideshow": {
     "slide_type": "slide"
    }
   },
   "source": [
    "# The bnlearn package\n",
    "\n",
    "- The `bnlearn` package is the most complete and popular **open source** package for Bayesian Networks available to the date in R (and almost everywhere)\n",
    "\n",
    "- We will start our tutorial by reviewing some of its capacities\n",
    "\n",
    "- [Docs](http://www.bnlearn.com/)"
   ]
  },
  {
   "cell_type": "code",
   "execution_count": null,
   "metadata": {},
   "outputs": [],
   "source": [
    "library(bnlearn)"
   ]
  },
  {
   "cell_type": "markdown",
   "metadata": {
    "slideshow": {
     "slide_type": "slide"
    }
   },
   "source": [
    "# Data Structures\n",
    "\n",
    "The usage of bnlearn revolves around the usage of two main **data structures** to represent a Bayesian Network in different stages (NOTE that these are *S3* classes and the names might overlap with other functions):\n",
    "\n",
    "* `bn` [[Docs]](http://www.bnlearn.com/documentation/man/bn.class.html). Represents the structural information, variables, graph and learning algorithm if provided.\n",
    "\n",
    "* `bn.fit` [[Docs]](http://www.bnlearn.com/documentation/man/bn.fit.class.html). Adds the parametric information on top of the previous structure. Contains the distribution of each node according to its type and parent configuration."
   ]
  },
  {
   "cell_type": "markdown",
   "metadata": {
    "slideshow": {
     "slide_type": "slide"
    }
   },
   "source": [
    "# Creating the structure of Bayesian networks\n",
    "\n",
    "There are different ways to manually initialize and modify the graph of a Bayesian Network.\n",
    "\n",
    "We can create empty graphs from a set of variables:\n",
    "\n"
   ]
  },
  {
   "cell_type": "code",
   "execution_count": null,
   "metadata": {},
   "outputs": [],
   "source": [
    "vars <- LETTERS[1:6]\n",
    "dag  <- empty.graph(vars)\n",
    "dag"
   ]
  },
  {
   "cell_type": "markdown",
   "metadata": {
    "slideshow": {
     "slide_type": "slide"
    }
   },
   "source": [
    "## Arcs as tuples\n",
    "\n",
    "You can specify arcs as a two column (`from`, `to`) matrix, setting them via `arcs` to an existing network"
   ]
  },
  {
   "cell_type": "code",
   "execution_count": null,
   "metadata": {
    "scrolled": true,
    "slideshow": {
     "slide_type": "subslide"
    }
   },
   "outputs": [],
   "source": [
    "e <- matrix(\n",
    "      c(\"A\", \"C\", \"B\", \"F\", \"C\", \"F\"),\n",
    "      ncol = 2, byrow = TRUE,\n",
    "      dimnames = list(NULL, c(\"from\", \"to\"))\n",
    "    )\n",
    "\n",
    "arcs(dag) <- e\n",
    "dag"
   ]
  },
  {
   "cell_type": "markdown",
   "metadata": {
    "slideshow": {
     "slide_type": "slide"
    }
   },
   "source": [
    "## Arcs as an adjancency matrix\n",
    "\n",
    "We can also use an adjancecy matrix, and assign it to a dag with `amat`"
   ]
  },
  {
   "cell_type": "code",
   "execution_count": null,
   "metadata": {
    "scrolled": false,
    "slideshow": {
     "slide_type": "subslide"
    }
   },
   "outputs": [],
   "source": [
    "adj <- matrix(\n",
    "        0L, \n",
    "        ncol = 6, \n",
    "        nrow = 6,\n",
    "        dimnames = list(vars, vars)\n",
    "       )\n",
    "\n",
    "adj[\"A\", \"C\"] = 1L\n",
    "adj[\"B\", \"F\"] = 1L\n",
    "adj[\"C\", \"F\"] = 1L\n",
    "adj[\"D\", \"E\"] = 1L\n",
    "adj[\"A\", \"E\"] = 1L\n",
    "print(adj)\n",
    "\n"
   ]
  },
  {
   "cell_type": "code",
   "execution_count": null,
   "metadata": {
    "slideshow": {
     "slide_type": "subslide"
    }
   },
   "outputs": [],
   "source": [
    "amat(dag) <- adj\n",
    "dag"
   ]
  },
  {
   "cell_type": "markdown",
   "metadata": {
    "slideshow": {
     "slide_type": "slide"
    }
   },
   "source": [
    "## Model String\n",
    "\n",
    "The last option is to create a *formula* for a given set of variables. Each node is specified by a pair of brackets `[<var_name>]`. If the node has a parentset we denote it by `|` and specify the list of parents separated by colons `:`. We can compute the formula into a `bn` object with `model2network`."
   ]
  },
  {
   "cell_type": "code",
   "execution_count": null,
   "metadata": {
    "slideshow": {
     "slide_type": "subslide"
    }
   },
   "outputs": [],
   "source": [
    "dag <- model2network(\"[A][C][B|A][D|C][F|A:B:C][E|F]\")\n",
    "dag"
   ]
  },
  {
   "cell_type": "markdown",
   "metadata": {
    "slideshow": {
     "slide_type": "slide"
    }
   },
   "source": [
    "# Plotting graphs\n",
    "\n",
    "We can ploting graphs using the built in R engine by using `plot` for the `bn` class\n",
    "\n",
    "Minimal aspects of the plot can be customized as documented in the corresponding help page. Other packages can be used indrectly to plot graphs, `bnlearn` provides connections with some of them but be aware that some of them might be outdated."
   ]
  },
  {
   "cell_type": "code",
   "execution_count": null,
   "metadata": {
    "slideshow": {
     "slide_type": "subslide"
    }
   },
   "outputs": [],
   "source": [
    "plot(dag)"
   ]
  },
  {
   "cell_type": "markdown",
   "metadata": {
    "slideshow": {
     "slide_type": "slide"
    }
   },
   "source": [
    "## Using D3's force graphs\n",
    "\n",
    "- Graphs are a common data structure and we can find lots of utilities to work with them\n",
    "\n",
    "- The D3 library from the *Javascript* domain is one of the most powerful visualization libs\n",
    "\n",
    "- The `networkD3` package is a nice port of the *D3 force graph*\n",
    "\n",
    "- The next snippet is just a custom function to transform a `bn` object to the required format for D3."
   ]
  },
  {
   "cell_type": "code",
   "execution_count": null,
   "metadata": {
    "slideshow": {
     "slide_type": "subslide"
    }
   },
   "outputs": [],
   "source": [
    "plotD3bn <- function(bn) {\n",
    "  varNames <- nodes(bn)\n",
    "\n",
    "  # Nodes should be zero indexed!\n",
    "  links <- data.frame®®(arcs(bn)) %>%\n",
    "    mutate(from = match(from, varNames)-1, to = match(to, varNames)-1, value = 1)\n",
    "  \n",
    "  nodes <- data.frame(name = varNames) %>%\n",
    "    mutate(group = 1, size = 30)\n",
    "  \n",
    "  networkD3::forceNetwork(\n",
    "    Links = links,  \n",
    "    Nodes = nodes,\n",
    "    Source = \"from\",\n",
    "    Target = \"to\",\n",
    "    Value = \"value\",\n",
    "    NodeID = \"name\",\n",
    "    Group = \"group\",\n",
    "    fontSize = 20,\n",
    "    zoom = TRUE,\n",
    "    arrows = TRUE,\n",
    "    bounded = TRUE,\n",
    "    opacityNoHover = 1\n",
    "  )\n",
    "}"
   ]
  },
  {
   "cell_type": "code",
   "execution_count": null,
   "metadata": {
    "slideshow": {
     "slide_type": "subslide"
    }
   },
   "outputs": [],
   "source": [
    "# Use the mouse weel for zoom!\n",
    "plotD3bn(dag)"
   ]
  },
  {
   "cell_type": "markdown",
   "metadata": {
    "slideshow": {
     "slide_type": "slide"
    }
   },
   "source": [
    "# Loading Bayesian networks from files\n",
    "\n",
    "- There are different file formats to represent a Bayesian network\n",
    "\n",
    "- They have originated over the years as an effort to create standards or as part of particular **propietary systems**\n",
    "\n",
    "- `bnlearn` provides several ways to load BNs from different formats [[Docs]](http://www.bnlearn.com/documentation/man/foreign.html)\n",
    "\n",
    "- If you plan to use just bnlearn you could just save an `rda` file"
   ]
  },
  {
   "cell_type": "markdown",
   "metadata": {
    "slideshow": {
     "slide_type": "slide"
    }
   },
   "source": [
    "## The Bayes net repository\n",
    "\n",
    "The maintainers of `bnlearn` also provide a modern R-focused repository for a series of popular Bayesian networks that have been used extensivelly for benchmarking on the literature.\n",
    "\n",
    "http://www.bnlearn.com/bnrepository/\n",
    "\n",
    "In here you can find networks with different properties that can be use to test algorithms or explore this or other BN packages. We will now work with the so popular `asia` network\n",
    "\n",
    "> *Asia* is for BNs what *\"iris\"* is for statistics."
   ]
  },
  {
   "cell_type": "code",
   "execution_count": null,
   "metadata": {
    "slideshow": {
     "slide_type": "subslide"
    }
   },
   "outputs": [],
   "source": [
    "# This downloads the RData file from the repository and loads it.\n",
    "# The bn is loaded into a bn.fit variable called bn\n",
    "load(url(\"http://www.bnlearn.com/bnrepository/asia/asia.rda\"))\n",
    "asia <- bn"
   ]
  },
  {
   "cell_type": "code",
   "execution_count": null,
   "metadata": {
    "slideshow": {
     "slide_type": "subslide"
    }
   },
   "outputs": [],
   "source": [
    "bn.net(asia)"
   ]
  },
  {
   "cell_type": "code",
   "execution_count": null,
   "metadata": {},
   "outputs": [],
   "source": [
    "plotD3bn(asia)"
   ]
  },
  {
   "cell_type": "markdown",
   "metadata": {
    "slideshow": {
     "slide_type": "subslide"
    }
   },
   "source": [
    "Now is the time to review the parameters, this prints each node and the asociated probability table. In this case all variables are **discrete** so the tables would be conditional probability tables."
   ]
  },
  {
   "cell_type": "code",
   "execution_count": null,
   "metadata": {
    "scrolled": true,
    "slideshow": {
     "slide_type": "-"
    }
   },
   "outputs": [],
   "source": [
    "asia"
   ]
  },
  {
   "cell_type": "markdown",
   "metadata": {
    "slideshow": {
     "slide_type": "subslide"
    }
   },
   "source": [
    "### Accessing nodes\n",
    "\n",
    "We can access individual nodes of the net as in a data.frame:\n"
   ]
  },
  {
   "cell_type": "code",
   "execution_count": null,
   "metadata": {},
   "outputs": [],
   "source": [
    "asia$smoke"
   ]
  },
  {
   "cell_type": "markdown",
   "metadata": {
    "slideshow": {
     "slide_type": "subslide"
    }
   },
   "source": [
    "### Plotting Parameters\n",
    "\n",
    "There is also a function to plot the distributions of discrete networks:\n"
   ]
  },
  {
   "cell_type": "code",
   "execution_count": null,
   "metadata": {
    "slideshow": {
     "slide_type": "subslide"
    }
   },
   "outputs": [],
   "source": [
    "bn.fit.barchart(asia$smoke)"
   ]
  },
  {
   "cell_type": "code",
   "execution_count": null,
   "metadata": {
    "slideshow": {
     "slide_type": "subslide"
    }
   },
   "outputs": [],
   "source": [
    "bn.fit.barchart(asia$dysp)\n"
   ]
  },
  {
   "cell_type": "markdown",
   "metadata": {
    "slideshow": {
     "slide_type": "slide"
    }
   },
   "source": [
    "# Introducing expert knowledge\n",
    "\n",
    "- We can manually alter the probability tables of a BN \n",
    "- This is useful for overriding parameters learnt from data or **not observed variables** \n",
    "- This method allows us to include expert information from the domain of the problem modelled.\n",
    "\n",
    "To modify a **conditional probability table** you can just directly replace the existing table in the model by extracting it with `coef`. \n",
    "\n",
    "**Be careful to maintain the inherent restrictions of the probability distribution.**"
   ]
  },
  {
   "cell_type": "code",
   "execution_count": null,
   "metadata": {
    "slideshow": {
     "slide_type": "subslide"
    }
   },
   "outputs": [],
   "source": [
    "cpt <- coef(asia$smoke)\n",
    "cpt[] <- c(0.2, 0.8)\n",
    "asia$smoke <- cpt\n",
    "asia$smoke"
   ]
  },
  {
   "cell_type": "markdown",
   "metadata": {
    "slideshow": {
     "slide_type": "slide"
    }
   },
   "source": [
    "# Sampling data from a Bayesian network\n",
    "\n",
    "- `bnlearn` introduces an *R like* function to sample data from a given fitted model `rbn`\n",
    "\n",
    "- We will now sample a dataset from *asia* to test learning from data"
   ]
  },
  {
   "cell_type": "code",
   "execution_count": null,
   "metadata": {
    "slideshow": {
     "slide_type": "subslide"
    }
   },
   "outputs": [],
   "source": [
    "# Note that the order of the parameters is inverted from the R sample functions\n",
    "sampleAsia <- rbn(x = asia, n = 10000)\n",
    "\n",
    "head(sampleAsia)"
   ]
  },
  {
   "cell_type": "markdown",
   "metadata": {
    "slideshow": {
     "slide_type": "slide"
    }
   },
   "source": [
    "# Parametric learning from data\n",
    "\n",
    "- We can induce the parameters of a Bayesian Network from observed data\n",
    "- `bnlearn` provides different algorithms for that, Maximum Likelihood Estimation (MLE) is the most common one\n",
    "\n",
    "- We can invoke the learning algorithm by using the function `bn.fit`\n",
    "\n",
    "- For that we need a **DAG** and a **compatible dataset**\n"
   ]
  },
  {
   "cell_type": "code",
   "execution_count": null,
   "metadata": {
    "slideshow": {
     "slide_type": "subslide"
    }
   },
   "outputs": [],
   "source": [
    "net <- bn.net(asia)\n",
    "asiaInduced <- bn.fit(x = net, data = sampleAsia)"
   ]
  },
  {
   "cell_type": "markdown",
   "metadata": {},
   "source": [
    "We can now compare the two networks, *there should be some discrepacies in the induced one* \n",
    "\n",
    "Notice that extremelly marginal probabilities will not be simulated and thus will not have a significant present in the sample.\n"
   ]
  },
  {
   "cell_type": "code",
   "execution_count": null,
   "metadata": {
    "scrolled": true
   },
   "outputs": [],
   "source": [
    "asia"
   ]
  },
  {
   "cell_type": "code",
   "execution_count": null,
   "metadata": {
    "scrolled": true,
    "slideshow": {
     "slide_type": "subslide"
    }
   },
   "outputs": [],
   "source": [
    "asiaInduced"
   ]
  },
  {
   "cell_type": "markdown",
   "metadata": {
    "slideshow": {
     "slide_type": "slide"
    }
   },
   "source": [
    "# Structural learning\n",
    "\n",
    "In many ocasions the structure of the model is designed by hand if know the variables and the causal patterns from expert knowledge\n",
    "\n",
    "This is what we call an **open box model** and provides a powerful framework for many problems, specially when compared to other models that do not provide a clear interpretation of their parameters\n",
    "\n",
    "However, there are many situations in which we would like to automatize the structural learning of a model such as causal patterns discovery or a lack of knowledge of the domain\n",
    "\n",
    "In other cases we just want to learn about particular dependency relationships between the variables or select the best structure among a particular set\n"
   ]
  },
  {
   "cell_type": "markdown",
   "metadata": {
    "slideshow": {
     "slide_type": "subslide"
    }
   },
   "source": [
    "- `bnlearn` specializes in structural learning\n",
    "\n",
    "- There is a complex taxonomy of such algorithms related to the statistical tests, metrics and heuristics. Exact learning is a NP-hard problem and thus several approaches have been proposed.\n",
    "\n",
    "- We focus on the `hc` algorithm to learn a full structure and the `BIC` score metric to measure the fit of a particular network with a dataset\n",
    "\n",
    "- The `hc` algorithm can be run from a data sample"
   ]
  },
  {
   "cell_type": "code",
   "execution_count": null,
   "metadata": {
    "slideshow": {
     "slide_type": "subslide"
    }
   },
   "outputs": [],
   "source": [
    "networkInduced <- hc(x = sampleAsia)\n",
    "networkInduced"
   ]
  },
  {
   "cell_type": "markdown",
   "metadata": {
    "slideshow": {
     "slide_type": "subslide"
    }
   },
   "source": [
    "## Network Comparison\n",
    "\n",
    "Lets compare it with the original network **golden model** as the algorithm may have introduced some differences given that we used a small data sample."
   ]
  },
  {
   "cell_type": "code",
   "execution_count": null,
   "metadata": {},
   "outputs": [],
   "source": [
    "modelstring(networkInduced)"
   ]
  },
  {
   "cell_type": "code",
   "execution_count": null,
   "metadata": {},
   "outputs": [],
   "source": [
    "modelstring(asia)"
   ]
  },
  {
   "cell_type": "markdown",
   "metadata": {
    "slideshow": {
     "slide_type": "subslide"
    }
   },
   "source": [
    "We can also compute some metrics to compare the network. The **structural Hamming distance** determines the amount of discrepancy between the two graphs."
   ]
  },
  {
   "cell_type": "code",
   "execution_count": null,
   "metadata": {},
   "outputs": [],
   "source": [
    "shd(bn.net(asia), networkInduced)"
   ]
  },
  {
   "cell_type": "markdown",
   "metadata": {
    "slideshow": {
     "slide_type": "subslide"
    }
   },
   "source": [
    "## Network Scoring\n",
    "\n",
    "- The BIC metric measures the fit of the structure for a given sample\n",
    "- It also penalizes the number of parameters to avoid overfitting \n",
    "\n",
    "Although in this case the result is almost the same, **the lower the metric the better**, so it seems that the induced model could be biased towards the sample and marginally outperforms the golden model"
   ]
  },
  {
   "cell_type": "code",
   "execution_count": null,
   "metadata": {},
   "outputs": [],
   "source": [
    "print(BIC(object = asia, data = sampleAsia))\n",
    "print(BIC(object = networkInduced, data = sampleAsia))"
   ]
  },
  {
   "cell_type": "markdown",
   "metadata": {
    "slideshow": {
     "slide_type": "slide"
    }
   },
   "source": [
    "# Gaussian networks\n",
    "\n",
    "- Gaussian networks differ in the kind of probability tables that represent them\n",
    "\n",
    "- If all nodes are gaussian we will find Gaussian nodes and linear Gaussian nodes\n",
    "\n",
    "- Gaussian nodes are encoded by the normal distribution parameters (mean and sd), linear gaussian are represented as linear reggresion with a coef for each parent, an intercept term and standard deviation of the residuals\n",
    "\n",
    "- `bnlearn` has some sample gaussian data to test these BNs"
   ]
  },
  {
   "cell_type": "code",
   "execution_count": null,
   "metadata": {
    "scrolled": true,
    "slideshow": {
     "slide_type": "subslide"
    }
   },
   "outputs": [],
   "source": [
    "data(gaussian.test)\n",
    "dag = model2network(\"[A][B][E][G][C|A:B][D|B][F|A:D:E:G]\")\n",
    "model <- bn.fit(dag, gaussian.test)\n",
    "model"
   ]
  },
  {
   "cell_type": "markdown",
   "metadata": {
    "slideshow": {
     "slide_type": "subslide"
    }
   },
   "source": [
    "## Editing Gaussian Nodes\n",
    "\n",
    "To modify a gaussian network node we proceed as in the discrete case"
   ]
  },
  {
   "cell_type": "code",
   "execution_count": null,
   "metadata": {},
   "outputs": [],
   "source": [
    "model$A <- list(coef = c(\"(Intercept)\" = 10), sd = 0)\n",
    "model$A"
   ]
  },
  {
   "cell_type": "markdown",
   "metadata": {
    "slideshow": {
     "slide_type": "slide"
    }
   },
   "source": [
    "# Hybrid networks\n",
    "\n",
    "- An hybrid network contains both discrete and continuous variables\n",
    "\n",
    "- **There is a framework restriction in which a discrete variable cannot have any continuous parent**\n",
    "\n",
    "- A continuous variable with discrete parents is represented by a conditional Gaussian distribution\n",
    "\n",
    "- With a linear gaussian distribution (according to any continuous parents) for each configuration of the discrete parents.\n",
    "\n",
    "- In the next example we will use `custom.fit` to manually load the parameters into a graph"
   ]
  },
  {
   "cell_type": "code",
   "execution_count": null,
   "metadata": {
    "scrolled": true,
    "slideshow": {
     "slide_type": "subslide"
    }
   },
   "outputs": [],
   "source": [
    "net <- model2network(\"[A][B][C|A:B]\")\n",
    "\n",
    "cptA  <- matrix(c(0.4, 0.6), ncol = 2, dimnames = list(NULL, c(\"LOW\", \"HIGH\")))\n",
    "distB <- list(coef = c(\"(Intercept)\" = 1), sd = 1.5)\n",
    "distC <- list(\n",
    "  coef = \n",
    "    matrix(\n",
    "      c(1.2, 2.3, 3.4, 4.5), \n",
    "      ncol = 2,\n",
    "      dimnames = list(c(\"(Intercept)\", \"B\"), NULL)\n",
    "    ),\n",
    "    sd = c(0.3, 0.6)\n",
    ")\n",
    "\n",
    "model = custom.fit(net, dist = list(A = cptA, B = distB, C = distC))\n",
    "model"
   ]
  },
  {
   "cell_type": "markdown",
   "metadata": {
    "slideshow": {
     "slide_type": "slide"
    }
   },
   "source": [
    "# Inference and probability queries\n",
    "\n",
    "- Inference in `bnlearn` is limited, but it can be used to test the networks and to perform basic operations with the models\n",
    "\n",
    "- `cpquery` asks for the probability of an **event** given a set of **evidence**\n",
    "\n",
    "- Both of them are boolean expressions involving the variables in the model\n",
    "\n",
    "- We may ask for a particular combination of configurations in the BN and a set of observed statuses for the variables in the evidence.\n",
    "\n",
    "- For example we could ask\n",
    "\n",
    "> *what is the posibility of a positive cancer diagnosis for a person who smokes?*, in the asia network."
   ]
  },
  {
   "cell_type": "code",
   "execution_count": null,
   "metadata": {
    "slideshow": {
     "slide_type": "subslide"
    }
   },
   "outputs": [],
   "source": [
    "# (For cpquery I recommend the most powerfull `lw` algorithm)\n",
    "\n",
    "# First we should observe the prior probability to compare\n",
    "# TRUE is for empty evidence\n",
    "\n",
    "cpquery(asia, event = lung == \"yes\", evidence = TRUE)"
   ]
  },
  {
   "cell_type": "code",
   "execution_count": null,
   "metadata": {},
   "outputs": [],
   "source": [
    "# Now for the complete wuery\n",
    "\n",
    "cpquery(asia, event = lung == \"yes\", evidence = list(smoke = \"yes\"), method = \"lw\", n = 100000)"
   ]
  },
  {
   "cell_type": "markdown",
   "metadata": {
    "slideshow": {
     "slide_type": "subslide"
    }
   },
   "source": [
    "### Repeat for stability\n",
    "\n",
    "As the method is not very stable it is useful to sample and repeat the query"
   ]
  },
  {
   "cell_type": "code",
   "execution_count": null,
   "metadata": {},
   "outputs": [],
   "source": [
    "query_trials <- replicate(100, cpquery(asia, event = lung == \"yes\", evidence = TRUE))\n",
    "query <- mean(query_trials)\n",
    "print(query)"
   ]
  },
  {
   "cell_type": "code",
   "execution_count": null,
   "metadata": {},
   "outputs": [],
   "source": [
    "query_trials <- replicate(100, cpquery(asia, event = lung == \"yes\", evidence = list(smoke = \"yes\"), method = \"lw\", n = 100000))\n",
    "query <- mean(query_trials)\n",
    "print(query)"
   ]
  },
  {
   "cell_type": "markdown",
   "metadata": {
    "slideshow": {
     "slide_type": "slide"
    }
   },
   "source": [
    "## Sampling data with evidence\n",
    "\n",
    "The other option is to use `cpdist` to sample cases from the network for a set of nodes in the presence of some evidence, the usage is the same, and we can obtain more stability by increasing the size of the sample."
   ]
  },
  {
   "cell_type": "code",
   "execution_count": null,
   "metadata": {
    "slideshow": {
     "slide_type": "subslide"
    }
   },
   "outputs": [],
   "source": [
    "s <- cpdist(asia, nodes = c(\"lung\"), evidence = TRUE, n=1000)\n",
    "head(s)"
   ]
  },
  {
   "cell_type": "code",
   "execution_count": null,
   "metadata": {
    "slideshow": {
     "slide_type": ""
    }
   },
   "outputs": [],
   "source": [
    "summary(s)"
   ]
  },
  {
   "cell_type": "code",
   "execution_count": null,
   "metadata": {
    "slideshow": {
     "slide_type": ""
    }
   },
   "outputs": [],
   "source": [
    "prop.table(table(s))"
   ]
  },
  {
   "cell_type": "code",
   "execution_count": null,
   "metadata": {
    "slideshow": {
     "slide_type": "subslide"
    }
   },
   "outputs": [],
   "source": [
    "ggplot(s, aes(x=lung)) + geom_bar()"
   ]
  },
  {
   "cell_type": "markdown",
   "metadata": {
    "slideshow": {
     "slide_type": "slide"
    }
   },
   "source": [
    "# What have we learnt?\n",
    "\n",
    "- `bn` and `bn.fit` data structures\n",
    "- Manual construction of DAGs\n",
    "- Manual input of CPTs\n",
    "- Data sampling from a BN\n",
    "- Estimating CPTs from data\n",
    "- Estimating and scoring DAGs from data\n",
    "- Gaussian and Hybrid networks\n",
    "- Inference with cpqueries and cpdist"
   ]
  }
 ],
 "metadata": {
  "celltoolbar": "Slideshow",
  "kernelspec": {
   "display_name": "R",
   "language": "R",
   "name": "ir"
  },
  "language_info": {
   "codemirror_mode": "r",
   "file_extension": ".r",
   "mimetype": "text/x-r-source",
   "name": "R",
   "pygments_lexer": "r",
   "version": "3.4.2"
  },
  "toc": {
   "base_numbering": 1,
   "nav_menu": {},
   "number_sections": false,
   "sideBar": true,
   "skip_h1_title": false,
   "title_cell": "Table of Contents",
   "title_sidebar": "Contents",
   "toc_cell": false,
   "toc_position": {},
   "toc_section_display": true,
   "toc_window_display": false
  },
  "varInspector": {
   "cols": {
    "lenName": 16,
    "lenType": 16,
    "lenVar": 40
   },
   "kernels_config": {
    "python": {
     "delete_cmd_postfix": "",
     "delete_cmd_prefix": "del ",
     "library": "var_list.py",
     "varRefreshCmd": "print(var_dic_list())"
    },
    "r": {
     "delete_cmd_postfix": ") ",
     "delete_cmd_prefix": "rm(",
     "library": "var_list.r",
     "varRefreshCmd": "cat(var_dic_list()) "
    }
   },
   "types_to_exclude": [
    "module",
    "function",
    "builtin_function_or_method",
    "instance",
    "_Feature"
   ],
   "window_display": false
  }
 },
 "nbformat": 4,
 "nbformat_minor": 2
}
